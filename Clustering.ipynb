{
  "nbformat": 4,
  "nbformat_minor": 0,
  "metadata": {
    "colab": {
      "name": "Clustering.ipynb",
      "provenance": []
    },
    "kernelspec": {
      "name": "python3",
      "display_name": "Python 3"
    },
    "language_info": {
      "name": "python"
    }
  },
  "cells": [
    {
      "cell_type": "code",
      "execution_count": 1,
      "metadata": {
        "id": "U23hAUPJHyyy"
      },
      "outputs": [],
      "source": [
        "import pandas as pd\n",
        "import matplotlib.pyplot as plt\n",
        "from sklearn.cluster import MeanShift"
      ]
    },
    {
      "cell_type": "code",
      "source": [
        "df = pd.read_csv('checkins.txt', sep='|', header=0, skipinitialspace=True)"
      ],
      "metadata": {
        "colab": {
          "base_uri": "https://localhost:8080/"
        },
        "id": "6XJF2Li-H1UN",
        "outputId": "f22ddcf6-ec8f-440d-ecc0-dd90d5cc1a68"
      },
      "execution_count": 10,
      "outputs": [
        {
          "output_type": "stream",
          "name": "stderr",
          "text": [
            "/usr/local/lib/python3.7/dist-packages/IPython/core/interactiveshell.py:2718: DtypeWarning: Columns (0) have mixed types.Specify dtype option on import or set low_memory=False.\n",
            "  interactivity=interactivity, compiler=compiler, result=result)\n"
          ]
        }
      ]
    },
    {
      "cell_type": "code",
      "source": [
        "df = df.iloc[:100000, -3:-1].dropna()\n",
        "df"
      ],
      "metadata": {
        "colab": {
          "base_uri": "https://localhost:8080/",
          "height": 424
        },
        "id": "ilhFBaNqLrdA",
        "outputId": "19e9a606-4cc2-4eaf-a6cc-2ad07985a604"
      },
      "execution_count": 11,
      "outputs": [
        {
          "output_type": "execute_result",
          "data": {
            "text/html": [
              "\n",
              "  <div id=\"df-78727586-35d6-468f-84af-2b10758f713c\">\n",
              "    <div class=\"colab-df-container\">\n",
              "      <div>\n",
              "<style scoped>\n",
              "    .dataframe tbody tr th:only-of-type {\n",
              "        vertical-align: middle;\n",
              "    }\n",
              "\n",
              "    .dataframe tbody tr th {\n",
              "        vertical-align: top;\n",
              "    }\n",
              "\n",
              "    .dataframe thead th {\n",
              "        text-align: right;\n",
              "    }\n",
              "</style>\n",
              "<table border=\"1\" class=\"dataframe\">\n",
              "  <thead>\n",
              "    <tr style=\"text-align: right;\">\n",
              "      <th></th>\n",
              "      <th>latitude</th>\n",
              "      <th>longitude</th>\n",
              "    </tr>\n",
              "  </thead>\n",
              "  <tbody>\n",
              "    <tr>\n",
              "      <th>2</th>\n",
              "      <td>38.895112</td>\n",
              "      <td>-77.036366</td>\n",
              "    </tr>\n",
              "    <tr>\n",
              "      <th>4</th>\n",
              "      <td>33.800745</td>\n",
              "      <td>-84.410520</td>\n",
              "    </tr>\n",
              "    <tr>\n",
              "      <th>8</th>\n",
              "      <td>45.523452</td>\n",
              "      <td>-122.676207</td>\n",
              "    </tr>\n",
              "    <tr>\n",
              "      <th>10</th>\n",
              "      <td>40.764462</td>\n",
              "      <td>-111.904565</td>\n",
              "    </tr>\n",
              "    <tr>\n",
              "      <th>11</th>\n",
              "      <td>33.448377</td>\n",
              "      <td>-112.074037</td>\n",
              "    </tr>\n",
              "    <tr>\n",
              "      <th>...</th>\n",
              "      <td>...</td>\n",
              "      <td>...</td>\n",
              "    </tr>\n",
              "    <tr>\n",
              "      <th>99987</th>\n",
              "      <td>34.052234</td>\n",
              "      <td>-118.243685</td>\n",
              "    </tr>\n",
              "    <tr>\n",
              "      <th>99989</th>\n",
              "      <td>35.149534</td>\n",
              "      <td>-90.048980</td>\n",
              "    </tr>\n",
              "    <tr>\n",
              "      <th>99991</th>\n",
              "      <td>51.759248</td>\n",
              "      <td>19.455983</td>\n",
              "    </tr>\n",
              "    <tr>\n",
              "      <th>99992</th>\n",
              "      <td>36.114646</td>\n",
              "      <td>-115.172816</td>\n",
              "    </tr>\n",
              "    <tr>\n",
              "      <th>99993</th>\n",
              "      <td>39.952335</td>\n",
              "      <td>-75.163789</td>\n",
              "    </tr>\n",
              "  </tbody>\n",
              "</table>\n",
              "<p>50159 rows × 2 columns</p>\n",
              "</div>\n",
              "      <button class=\"colab-df-convert\" onclick=\"convertToInteractive('df-78727586-35d6-468f-84af-2b10758f713c')\"\n",
              "              title=\"Convert this dataframe to an interactive table.\"\n",
              "              style=\"display:none;\">\n",
              "        \n",
              "  <svg xmlns=\"http://www.w3.org/2000/svg\" height=\"24px\"viewBox=\"0 0 24 24\"\n",
              "       width=\"24px\">\n",
              "    <path d=\"M0 0h24v24H0V0z\" fill=\"none\"/>\n",
              "    <path d=\"M18.56 5.44l.94 2.06.94-2.06 2.06-.94-2.06-.94-.94-2.06-.94 2.06-2.06.94zm-11 1L8.5 8.5l.94-2.06 2.06-.94-2.06-.94L8.5 2.5l-.94 2.06-2.06.94zm10 10l.94 2.06.94-2.06 2.06-.94-2.06-.94-.94-2.06-.94 2.06-2.06.94z\"/><path d=\"M17.41 7.96l-1.37-1.37c-.4-.4-.92-.59-1.43-.59-.52 0-1.04.2-1.43.59L10.3 9.45l-7.72 7.72c-.78.78-.78 2.05 0 2.83L4 21.41c.39.39.9.59 1.41.59.51 0 1.02-.2 1.41-.59l7.78-7.78 2.81-2.81c.8-.78.8-2.07 0-2.86zM5.41 20L4 18.59l7.72-7.72 1.47 1.35L5.41 20z\"/>\n",
              "  </svg>\n",
              "      </button>\n",
              "      \n",
              "  <style>\n",
              "    .colab-df-container {\n",
              "      display:flex;\n",
              "      flex-wrap:wrap;\n",
              "      gap: 12px;\n",
              "    }\n",
              "\n",
              "    .colab-df-convert {\n",
              "      background-color: #E8F0FE;\n",
              "      border: none;\n",
              "      border-radius: 50%;\n",
              "      cursor: pointer;\n",
              "      display: none;\n",
              "      fill: #1967D2;\n",
              "      height: 32px;\n",
              "      padding: 0 0 0 0;\n",
              "      width: 32px;\n",
              "    }\n",
              "\n",
              "    .colab-df-convert:hover {\n",
              "      background-color: #E2EBFA;\n",
              "      box-shadow: 0px 1px 2px rgba(60, 64, 67, 0.3), 0px 1px 3px 1px rgba(60, 64, 67, 0.15);\n",
              "      fill: #174EA6;\n",
              "    }\n",
              "\n",
              "    [theme=dark] .colab-df-convert {\n",
              "      background-color: #3B4455;\n",
              "      fill: #D2E3FC;\n",
              "    }\n",
              "\n",
              "    [theme=dark] .colab-df-convert:hover {\n",
              "      background-color: #434B5C;\n",
              "      box-shadow: 0px 1px 3px 1px rgba(0, 0, 0, 0.15);\n",
              "      filter: drop-shadow(0px 1px 2px rgba(0, 0, 0, 0.3));\n",
              "      fill: #FFFFFF;\n",
              "    }\n",
              "  </style>\n",
              "\n",
              "      <script>\n",
              "        const buttonEl =\n",
              "          document.querySelector('#df-78727586-35d6-468f-84af-2b10758f713c button.colab-df-convert');\n",
              "        buttonEl.style.display =\n",
              "          google.colab.kernel.accessAllowed ? 'block' : 'none';\n",
              "\n",
              "        async function convertToInteractive(key) {\n",
              "          const element = document.querySelector('#df-78727586-35d6-468f-84af-2b10758f713c');\n",
              "          const dataTable =\n",
              "            await google.colab.kernel.invokeFunction('convertToInteractive',\n",
              "                                                     [key], {});\n",
              "          if (!dataTable) return;\n",
              "\n",
              "          const docLinkHtml = 'Like what you see? Visit the ' +\n",
              "            '<a target=\"_blank\" href=https://colab.research.google.com/notebooks/data_table.ipynb>data table notebook</a>'\n",
              "            + ' to learn more about interactive tables.';\n",
              "          element.innerHTML = '';\n",
              "          dataTable['output_type'] = 'display_data';\n",
              "          await google.colab.output.renderOutput(dataTable, element);\n",
              "          const docLink = document.createElement('div');\n",
              "          docLink.innerHTML = docLinkHtml;\n",
              "          element.appendChild(docLink);\n",
              "        }\n",
              "      </script>\n",
              "    </div>\n",
              "  </div>\n",
              "  "
            ],
            "text/plain": [
              "       latitude        longitude     \n",
              "2           38.895112      -77.036366\n",
              "4           33.800745      -84.410520\n",
              "8           45.523452     -122.676207\n",
              "10          40.764462     -111.904565\n",
              "11          33.448377     -112.074037\n",
              "...               ...             ...\n",
              "99987       34.052234     -118.243685\n",
              "99989       35.149534      -90.048980\n",
              "99991       51.759248       19.455983\n",
              "99992       36.114646     -115.172816\n",
              "99993       39.952335      -75.163789\n",
              "\n",
              "[50159 rows x 2 columns]"
            ]
          },
          "metadata": {},
          "execution_count": 11
        }
      ]
    },
    {
      "cell_type": "code",
      "source": [
        "def closest_places(cluster_centers):\n",
        "  office_addresses = [[34.2720355,-118.4693734], [33.7507188,-118.1889072], [27.9450524,-82.4455656],\n",
        "                  [39.2650447,-76.6007999], [32.717609,-117.1761962], [37.804883,-122.4016302],\n",
        "                  [49.2514431,-123.1277804], [32.7859233,-79.9333731], [30.6860768,-88.0394999],\n",
        "                  [26.1216934,-80.1388889], [33.3882696,-111.6913768], [26.0853385,-80.1180988],\n",
        "                  [30.0068944,-90.1633797], [29.3075638,-94.7986193], [28.4157244,-80.6310168],\n",
        "                  [52.3787031,4.8849274], [47.3831508,8.4987319], [41.3905199,2.1570719],\n",
        "                  [50.4356475,30.5142909], [53.4699633,-2.2947828]]\n",
        "  best_centers = []\n",
        "  min_distance = 2000\n",
        "  closest_center = [1000, 1000]\n",
        "  for address in office_addresses:\n",
        "      best_distance = 2000\n",
        "      best_centers.append([1000, 1000])\n",
        "      for i in range(len(cluster_centers)):\n",
        "          distance = (address[0] - cluster_centers.iloc[i, 1]) ** 2 + (address[1] - cluster_centers.iloc[i, 0]) ** 2\n",
        "          if distance < best_distance:\n",
        "              best_distance = distance\n",
        "              best_centers[-1] = [cluster_centers.iloc[i, 1], cluster_centers.iloc[i, 0]]\n",
        "      if best_distance < min_distance:\n",
        "          closest_center = best_centers[-1]\n",
        "          min_distance = best_distance\n",
        "  return best_centers, closest_center"
      ],
      "metadata": {
        "id": "yZZBzoooMCNx"
      },
      "execution_count": 5,
      "outputs": []
    },
    {
      "cell_type": "code",
      "source": [
        "clst = MeanShift(bandwidth=0.1)\n",
        "clst.fit(df)"
      ],
      "metadata": {
        "colab": {
          "base_uri": "https://localhost:8080/"
        },
        "id": "bgwe2ZXwMizb",
        "outputId": "2623b027-8157-4e84-8490-d6ac87804f2e"
      },
      "execution_count": 12,
      "outputs": [
        {
          "output_type": "execute_result",
          "data": {
            "text/plain": [
              "MeanShift(bandwidth=0.1)"
            ]
          },
          "metadata": {},
          "execution_count": 12
        }
      ]
    },
    {
      "cell_type": "code",
      "source": [
        "cluster_centers_x = [el[1] for el in clst.cluster_centers_]\n",
        "cluster_centers_y = [el[0] for el in clst.cluster_centers_]\n",
        "plt.scatter(x=cluster_centers_x, y=cluster_centers_y, alpha=0.3)"
      ],
      "metadata": {
        "colab": {
          "base_uri": "https://localhost:8080/",
          "height": 282
        },
        "id": "NqRPbmm6O9UF",
        "outputId": "e789f29d-ba18-44de-949b-1f51454d448a"
      },
      "execution_count": 13,
      "outputs": [
        {
          "output_type": "execute_result",
          "data": {
            "text/plain": [
              "<matplotlib.collections.PathCollection at 0x7f7d2377bd50>"
            ]
          },
          "metadata": {},
          "execution_count": 13
        },
        {
          "output_type": "display_data",
          "data": {
            "image/png": "[encoded data removed]",
            "text/plain": [
              "<Figure size 432x288 with 1 Axes>"
            ]
          },
          "metadata": {
            "needs_background": "light"
          }
        }
      ]
    },
    {
      "cell_type": "code",
      "source": [
        "good_labels = []\n",
        "for label in set(clst.labels_):\n",
        "    if len(clst.labels_[clst.labels_ == label]) >= 15:\n",
        "        good_labels.append(label)\n",
        "cluster_centers = pd.DataFrame({'longitude': cluster_centers_x,\n",
        "                                'latitude': cluster_centers_y, 'label': range(len(cluster_centers_x))})\n",
        "good_cluster_centers = cluster_centers[cluster_centers['label'].isin(good_labels)]"
      ],
      "metadata": {
        "id": "FgMqLkg8Po4U"
      },
      "execution_count": 16,
      "outputs": []
    },
    {
      "cell_type": "code",
      "source": [
        "best_centers, closest_center = closest_places(good_cluster_centers)"
      ],
      "metadata": {
        "id": "Kce_fRgJaDDC"
      },
      "execution_count": 17,
      "outputs": []
    },
    {
      "cell_type": "code",
      "source": [
        "best_centers"
      ],
      "metadata": {
        "colab": {
          "base_uri": "https://localhost:8080/"
        },
        "id": "VZKsawWvaLbU",
        "outputId": "063aa4b5-a3ec-4c5a-bc20-eff73eb7deef"
      },
      "execution_count": 18,
      "outputs": [
        {
          "output_type": "execute_result",
          "data": {
            "text/plain": [
              "[[34.205017046774174, -118.54792483064516],\n",
              " [33.80546317816908, -118.15448771478907],\n",
              " [27.9494415560975, -82.46510523902455],\n",
              " [39.28529530062884, -76.61547842138361],\n",
              " [32.71125728619976, -117.15347787813108],\n",
              " [37.72646636242612, -122.41451850231901],\n",
              " [49.242789338372184, -123.110506144186],\n",
              " [32.782066667391284, -79.9170199413044],\n",
              " [30.406725999999992, -87.20485637727278],\n",
              " [26.120071348461526, -80.15897098384606],\n",
              " [33.36010505333748, -111.82256392333228],\n",
              " [26.120071348461526, -80.15897098384606],\n",
              " [29.988497123809523, -90.2054063571428],\n",
              " [29.7626328999999, -95.38217382314582],\n",
              " [28.329003447368425, -80.6874151263158],\n",
              " [48.85951503703704, 2.34158581111111],\n",
              " [48.85951503703704, 2.34158581111111],\n",
              " [48.85951503703704, 2.34158581111111],\n",
              " [55.73942573999998, 37.631311319999995],\n",
              " [51.503447852083276, -0.12743302499999987]]"
            ]
          },
          "metadata": {},
          "execution_count": 18
        }
      ]
    },
    {
      "cell_type": "code",
      "source": [
        "closest_center"
      ],
      "metadata": {
        "colab": {
          "base_uri": "https://localhost:8080/"
        },
        "id": "za64CnHdaOPZ",
        "outputId": "fbee4b9e-6db2-444f-81fb-a1df0bb6350e"
      },
      "execution_count": 19,
      "outputs": [
        {
          "output_type": "execute_result",
          "data": {
            "text/plain": [
              "[32.782066667391284, -79.9170199413044]"
            ]
          },
          "metadata": {},
          "execution_count": 19
        }
      ]
    }
  ]
}